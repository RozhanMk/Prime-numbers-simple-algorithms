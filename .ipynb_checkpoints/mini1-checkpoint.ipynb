{
 "cells": [
  {
   "cell_type": "code",
   "execution_count": null,
   "id": "d37ed847",
   "metadata": {},
   "outputs": [],
   "source": [
    "import time\n",
    "import pandas as pd\n",
    "import random\n",
    "import math\n",
    "import signal\n",
    "import matplotlib.pyplot as plt"
   ]
  },
  {
   "cell_type": "code",
   "execution_count": null,
   "id": "9040b9bc",
   "metadata": {},
   "outputs": [],
   "source": [
    "def handler(signum, frame):\n",
    "    raise Exception(\"end of time\")"
   ]
  },
  {
   "cell_type": "code",
   "execution_count": null,
   "id": "24ed45b8",
   "metadata": {},
   "outputs": [],
   "source": [
    "signal.signal(signal.SIGALRM, handler)"
   ]
  },
  {
   "cell_type": "markdown",
   "id": "6953743b",
   "metadata": {},
   "source": [
    "در ابنجا مقادیر پیش فرض را رندوم انتخاب میکنیم. از هر بازه ۱۰ عدد انتخاب میشود. و آنها را در فایلی دخیره میکنیم"
   ]
  },
  {
   "cell_type": "code",
   "execution_count": null,
   "id": "eaac551f",
   "metadata": {},
   "outputs": [],
   "source": [
    "# write random inputs in a file\n",
    "\n",
    "value_n = random.choices(list(range(10, 101)), k=10)\n",
    "value_n += random.choices(list(range(100, 1001)), k=10)\n",
    "value_n += random.choices(list(range(1000, 10001)), k=10)\n",
    "value_n += random.choices(list(range(10000, 100001)), k=10)\n",
    "value_n += random.choices(list(range(100000, 1000001)), k=10)\n",
    "\n",
    "value_n.sort()\n",
    "with open(\"input.txt\",\"w\") as f:\n",
    "    f.write('\\n'.join(list(map(str, value_n))))"
   ]
  },
  {
   "cell_type": "markdown",
   "id": "14332ee7",
   "metadata": {},
   "source": [
    "First way(not optimized):\n",
    "\n",
    "O(n*n)"
   ]
  },
  {
   "cell_type": "code",
   "execution_count": null,
   "id": "6e4df431",
   "metadata": {},
   "outputs": [],
   "source": [
    "def isPrime(num):\n",
    "    isPrime = True\n",
    "    if num == 1:\n",
    "        return False\n",
    "    for i in range(2,num):\n",
    "        if num % i == 0:\n",
    "            isPrime = False\n",
    "    return isPrime\n",
    "def main(n):\n",
    "    result = 0\n",
    "    start_time = time.time()\n",
    "    for i in range(2,n+1):\n",
    "        if isPrime(i):\n",
    "            result+=1\n",
    "    return time.time() - start_time"
   ]
  },
  {
   "cell_type": "markdown",
   "id": "fbc85cf9",
   "metadata": {},
   "source": [
    "First way(optimized):\n",
    "\n",
    "O(n*n)"
   ]
  },
  {
   "cell_type": "code",
   "execution_count": null,
   "id": "278bac61",
   "metadata": {},
   "outputs": [],
   "source": [
    "def isPrime(num):\n",
    "    if num == 1:\n",
    "        return False\n",
    "    for i in range(2,num):\n",
    "        if num % i == 0:\n",
    "            return False\n",
    "    return True\n",
    "def main(n):\n",
    "    result = 0\n",
    "    start_time = time.time()\n",
    "    for i in range(2,n+1):\n",
    "        if isPrime(i):\n",
    "            result+=1\n",
    "    return time.time() - start_time"
   ]
  },
  {
   "cell_type": "markdown",
   "id": "1fd3f77a",
   "metadata": {},
   "source": [
    "----------------------------------------------------------\n",
    "Second way(not optimized)\n",
    "\n",
    "O(n^{3/2})"
   ]
  },
  {
   "cell_type": "code",
   "execution_count": null,
   "id": "6ef10245",
   "metadata": {},
   "outputs": [],
   "source": [
    "def isPrime(num):\n",
    "    isPrime = True\n",
    "    if num<= 1:\n",
    "        return False\n",
    "    if num<=3:\n",
    "        return True\n",
    "    for i in range(2,int(math.sqrt(num))+1):\n",
    "        if num % i == 0:\n",
    "            isPrime = False\n",
    "    return isPrime\n",
    "def main(n):\n",
    "    result = 0\n",
    "    start_time = time.time()\n",
    "    for i in range(2,n+1):\n",
    "        if isPrime(i):\n",
    "            result+=1\n",
    "    return time.time() - start_time\n"
   ]
  },
  {
   "cell_type": "markdown",
   "id": "201a4a14",
   "metadata": {},
   "source": [
    "----------------------------------------------------------\n",
    "Second way(optimized)\n",
    "\n",
    "O(n^{3/2})"
   ]
  },
  {
   "cell_type": "code",
   "execution_count": null,
   "id": "900b70ec",
   "metadata": {},
   "outputs": [],
   "source": [
    "def isPrime(num):\n",
    "    if num<= 1:\n",
    "        return False\n",
    "    if num<=3:\n",
    "        return True\n",
    "    for i in range(2,int(math.sqrt(num))+1):\n",
    "        if num % i == 0:\n",
    "            return False\n",
    "    return True\n",
    "def main(n):\n",
    "    result = 0\n",
    "    start_time = time.time()\n",
    "    for i in range(2,n+1):\n",
    "        if isPrime(i):\n",
    "            result+=1\n",
    "    return time.time() - start_time\n"
   ]
  },
  {
   "cell_type": "markdown",
   "id": "ec4c16c8",
   "metadata": {},
   "source": [
    "------------------------------------------------------------\n",
    "Third way\n",
    "\n",
    "O(nlogn)"
   ]
  },
  {
   "cell_type": "code",
   "execution_count": null,
   "id": "7197f0e1",
   "metadata": {},
   "outputs": [],
   "source": [
    "def main(n):\n",
    "    arr = [True for _ in range(1,n)]\n",
    "    for i in range(2, n+1):\n",
    "        count = 2\n",
    "        while(count * i <= n):\n",
    "            arr[(count * i) - 2] = False\n",
    "            count += 1\n",
    "            \n",
    "    result = 0\n",
    "    start_time = time.time()\n",
    "    for number in arr:\n",
    "        if(number):\n",
    "            result+=1\n",
    "    return time.time() - start_time\n"
   ]
  },
  {
   "cell_type": "markdown",
   "id": "eaa0acff",
   "metadata": {},
   "source": [
    "Forth way\n",
    "\n",
    "O(nlogn)"
   ]
  },
  {
   "cell_type": "code",
   "execution_count": null,
   "id": "65f9d7b6",
   "metadata": {},
   "outputs": [],
   "source": [
    "def main(n):\n",
    "    arr = [True for _ in range(1,n)]\n",
    "    for i in range(2, n+1):\n",
    "        count = 2\n",
    "        if arr[count - 2]:\n",
    "            while(count * i <= n):\n",
    "                arr[(count * i) - 2] = False\n",
    "                count += 1 \n",
    "    result = 0\n",
    "    start_time = time.time()\n",
    "    for number in arr:\n",
    "        if(number):\n",
    "            result+=1\n",
    "    return time.time() - start_time\n"
   ]
  },
  {
   "cell_type": "markdown",
   "id": "70f8fd88",
   "metadata": {},
   "source": [
    "سرعت الگوریتم ها:\n",
    "\n",
    "o(nlogn) > o(n^{3/2}) > o(n*n)"
   ]
  },
  {
   "cell_type": "markdown",
   "id": "18d66f02",
   "metadata": {},
   "source": [
    "**timeout = 10s**"
   ]
  },
  {
   "cell_type": "code",
   "execution_count": null,
   "id": "a18f893d",
   "metadata": {
    "scrolled": false
   },
   "outputs": [],
   "source": [
    "# read inputs and create the list of value_n and time_passed\n",
    "\n",
    "with open('input.txt') as f:\n",
    "    value_n = [line.strip() for line in f.readlines()]\n",
    "    \n",
    "\n",
    "time_passed = []\n",
    "\n",
    "for value in value_n:\n",
    "    signal.alarm(10)\n",
    "    try:\n",
    "        time_of_main = main(int(value.rstrip('\\n')))\n",
    "    except Exception as exc:\n",
    "        print(value)\n",
    "        break\n",
    "    else:\n",
    "        time_passed.append(time_of_main)\n",
    "        \n",
    "signal.alarm(0)\n",
    "value_n = value_n[0:len(time_passed)]\n",
    "value_n = list(map(int, value_n))"
   ]
  },
  {
   "cell_type": "code",
   "execution_count": null,
   "id": "aafa944b",
   "metadata": {},
   "outputs": [],
   "source": [
    "# draw table with pandas library\n",
    "\n",
    "data = {'value_n': value_n,\n",
    "        'time': time_passed\n",
    "        }\n",
    "\n",
    "df = pd.DataFrame(data)\n",
    "\n",
    "print(df)"
   ]
  },
  {
   "cell_type": "code",
   "execution_count": null,
   "id": "d10b42c5",
   "metadata": {
    "scrolled": true
   },
   "outputs": [],
   "source": [
    "# draw chart with matplot library\n",
    "\n",
    "plt.rcParams[\"figure.figsize\"] = (8,8)\n",
    "plt.plot(value_n, time_passed, linestyle=\"--\", color=\"blue\")\n",
    "plt.xlabel('value of n')\n",
    "plt.ylabel('time')\n",
    "plt.tight_layout(pad = 2)\n",
    "plt.savefig(\"way1 with running programs.jpg\")"
   ]
  },
  {
   "cell_type": "markdown",
   "id": "ebeee3ba",
   "metadata": {},
   "source": [
    "طبق نمودار ران شدن روش اول در هنگام اجرای برنامه های دیگر، متوجه میشویم با ران شدن برنامه های دیگر در پس زمینه سرعت الگوریتم کاهش می یابد. "
   ]
  }
 ],
 "metadata": {
  "kernelspec": {
   "display_name": "Python 3 (ipykernel)",
   "language": "python",
   "name": "python3"
  },
  "language_info": {
   "codemirror_mode": {
    "name": "ipython",
    "version": 3
   },
   "file_extension": ".py",
   "mimetype": "text/x-python",
   "name": "python",
   "nbconvert_exporter": "python",
   "pygments_lexer": "ipython3",
   "version": "3.9.12"
  }
 },
 "nbformat": 4,
 "nbformat_minor": 5
}
